{
 "cells": [
  {
   "cell_type": "markdown",
   "id": "824a96ee",
   "metadata": {},
   "source": [
    "# Creating, Planting, and Finding Signals Within Noise\n",
    "Elizabeth Kapelevich"
   ]
  },
  {
   "cell_type": "code",
   "execution_count": 1,
   "id": "152fcb44",
   "metadata": {},
   "outputs": [],
   "source": [
    "import numpy as np\n",
    "import math\n",
    "from scipy import interpolate\n",
    "import matplotlib.pyplot as plt\n",
    "import signals_and_noise as san"
   ]
  },
  {
   "cell_type": "code",
   "execution_count": 19,
   "id": "63022aa7",
   "metadata": {},
   "outputs": [],
   "source": [
    "Time1, Position1 = np.loadtxt(\"mock_data_challenge_1.dat\").T\n",
    "Time2, Position2 = np.loadtxt(\"mock_data_challenge_2.dat\").T"
   ]
  },
  {
   "cell_type": "code",
   "execution_count": 55,
   "id": "dd8409c9",
   "metadata": {},
   "outputs": [],
   "source": [
    "# known values\n",
    "a = 1.5\n",
    "t_start = Time1[0]\n",
    "t_max = Time1[-1]\n",
    "t_duration = 8\n",
    "data_time_series = np.array([Time1, Position1])\n",
    "del_T = np.diff(Time1)[0]\n",
    "del_T_0 = np.diff(Time1)[0]\n",
    "\n",
    "# unknown values that are randomly guessed\n",
    "f = 10\n",
    "sigma = 10"
   ]
  },
  {
   "cell_type": "code",
   "execution_count": 62,
   "id": "7518c4b1",
   "metadata": {},
   "outputs": [],
   "source": [
    "time_crosscorr, crosscorr_value = san.cross_correlation(del_T_0, t_start, t_max, \n",
    "                                                   data_time_series, a, f, sigma, t_duration, del_T)"
   ]
  },
  {
   "cell_type": "code",
   "execution_count": 63,
   "id": "d57172cb",
   "metadata": {},
   "outputs": [
    {
     "name": "stdout",
     "output_type": "stream",
     "text": [
      "9.56\n"
     ]
    }
   ],
   "source": [
    "x = np.argmax(crosscorr_value)\n",
    "print(Time1[x])"
   ]
  },
  {
   "cell_type": "markdown",
   "id": "ca598164",
   "metadata": {},
   "source": [
    "### Compute a for-loop to run a range of frequencies and sigmas to ouput the maximum value of the cross-correlation."
   ]
  },
  {
   "cell_type": "code",
   "execution_count": null,
   "id": "19453b84",
   "metadata": {},
   "outputs": [],
   "source": [
    "# this needs to loop over a range of frequencies and sigmas to output the highest value for the cross-correlation\n",
    "\n",
    "def freq_sigma_search(t_start, t_max)\n",
    "\n",
    "result = 0\n",
    "\n",
    "for i in range(t_start, t_max, 0.01):\n",
    "    result += \n",
    "    \n",
    "# you can use math.floor and math.ceil to find highest value in an array"
   ]
  }
 ],
 "metadata": {
  "kernelspec": {
   "display_name": "Research",
   "language": "python",
   "name": "research"
  },
  "language_info": {
   "codemirror_mode": {
    "name": "ipython",
    "version": 3
   },
   "file_extension": ".py",
   "mimetype": "text/x-python",
   "name": "python",
   "nbconvert_exporter": "python",
   "pygments_lexer": "ipython3",
   "version": "3.9.7"
  }
 },
 "nbformat": 4,
 "nbformat_minor": 5
}
