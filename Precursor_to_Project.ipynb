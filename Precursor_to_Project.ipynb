{
 "cells": [
  {
   "cell_type": "markdown",
   "id": "824a96ee",
   "metadata": {},
   "source": [
    "# Creating, Planting, and Finding Signals Within Noise\n",
    "Elizabeth Kapelevich"
   ]
  },
  {
   "cell_type": "code",
   "execution_count": 1,
   "id": "152fcb44",
   "metadata": {},
   "outputs": [],
   "source": [
    "import math\n",
    "import numpy as np\n",
    "from scipy import interpolate\n",
    "import matplotlib.pyplot as plt\n",
    "import signals_and_noise as san"
   ]
  },
  {
   "cell_type": "code",
   "execution_count": 2,
   "id": "63022aa7",
   "metadata": {},
   "outputs": [],
   "source": [
    "Time1, Position1 = np.loadtxt(\"mock_data_challenge_1.dat\").T\n",
    "Time2, Position2 = np.loadtxt(\"mock_data_challenge_2.dat\").T"
   ]
  },
  {
   "cell_type": "markdown",
   "id": "158fee6b",
   "metadata": {},
   "source": [
    "## Main Goal for Week of 6/27:\n",
    "Adjust the `template`, `integrator`, `cross_correlation`, and `fs_search` functions to take a frequency array as input and output the proper result.\n",
    "#### Tasks: \n",
    "* The main goal is to find the global maximum of the cross-correlation and apply its index to the frequency array to find the corresponding value."
   ]
  },
  {
   "cell_type": "code",
   "execution_count": 47,
   "id": "7c57ef64",
   "metadata": {},
   "outputs": [],
   "source": [
    "def frequency_time_search(del_T_0, t_start, t_max, \n",
    "             data_time_series, a, f, sigma, t_duration, del_T):\n",
    "    \n",
    "    times, C = san.cross_correlation(del_T_0, t_start, t_max, data_time_series, \n",
    "                                 a, f, sigma, t_duration, del_T)\n",
    "    C_array = np.array(C)\n",
    "    C_max_value = np.max(C_array)\n",
    "    find_index = np.where(C_max_value == C_array)\n",
    "    \n",
    "    index_row = int(find_index[0])\n",
    "    index_column = int(find_index[1])\n",
    "    \n",
    "    time_correct = times[index_row]\n",
    "    frequency_correct = f[index_column]\n",
    "    \n",
    "    return time_correct, frequency_correct"
   ]
  },
  {
   "cell_type": "code",
   "execution_count": 48,
   "id": "9b8733f5",
   "metadata": {},
   "outputs": [],
   "source": [
    "a = 1.5\n",
    "f = np.array([1, 2, 3])   # actual values/size to be determined\n",
    "sigma = 0.1\n",
    "t_0 = 2.01\n",
    "t_start = 2\n",
    "t_duration = 8\n",
    "t_max = 20\n",
    "data_time_series = [Time1, Position1]\n",
    "data_time_stamps = Time1\n",
    "del_T_0 = 0.012\n",
    "del_T = 0.012"
   ]
  },
  {
   "cell_type": "code",
   "execution_count": 49,
   "id": "5f9a37e6",
   "metadata": {},
   "outputs": [],
   "source": [
    "search = frequency_search(del_T_0, t_start, t_max, data_time_series, a, f, sigma, t_duration, del_T)"
   ]
  },
  {
   "cell_type": "code",
   "execution_count": 50,
   "id": "024c1fd3",
   "metadata": {},
   "outputs": [
    {
     "data": {
      "text/plain": [
       "(5.15599999999996, 1)"
      ]
     },
     "execution_count": 50,
     "metadata": {},
     "output_type": "execute_result"
    }
   ],
   "source": [
    "search"
   ]
  },
  {
   "cell_type": "code",
   "execution_count": 30,
   "id": "eb031a29",
   "metadata": {},
   "outputs": [],
   "source": [
    "a = np.array([[1, 2, 3], [4, 5, 6], [7, 8, 9]])\n",
    "\n",
    "x = np.max(a)\n",
    "z = np.where(x == a)"
   ]
  },
  {
   "cell_type": "code",
   "execution_count": 44,
   "id": "702033c9",
   "metadata": {},
   "outputs": [
    {
     "data": {
      "text/plain": [
       "9"
      ]
     },
     "execution_count": 44,
     "metadata": {},
     "output_type": "execute_result"
    }
   ],
   "source": [
    "int(a[z])"
   ]
  },
  {
   "cell_type": "code",
   "execution_count": 45,
   "id": "15b2ac9d",
   "metadata": {},
   "outputs": [
    {
     "data": {
      "text/plain": [
       "2"
      ]
     },
     "execution_count": 45,
     "metadata": {},
     "output_type": "execute_result"
    }
   ],
   "source": [
    "int(z[0])"
   ]
  },
  {
   "cell_type": "code",
   "execution_count": 46,
   "id": "09f59ba9",
   "metadata": {},
   "outputs": [
    {
     "data": {
      "text/plain": [
       "2"
      ]
     },
     "execution_count": 46,
     "metadata": {},
     "output_type": "execute_result"
    }
   ],
   "source": [
    "int(z[1])"
   ]
  },
  {
   "cell_type": "code",
   "execution_count": null,
   "id": "68622323",
   "metadata": {},
   "outputs": [],
   "source": [
    "# np.where outputs a tuple: row, column"
   ]
  }
 ],
 "metadata": {
  "kernelspec": {
   "display_name": "Research",
   "language": "python",
   "name": "research"
  },
  "language_info": {
   "codemirror_mode": {
    "name": "ipython",
    "version": 3
   },
   "file_extension": ".py",
   "mimetype": "text/x-python",
   "name": "python",
   "nbconvert_exporter": "python",
   "pygments_lexer": "ipython3",
   "version": "3.9.7"
  }
 },
 "nbformat": 4,
 "nbformat_minor": 5
}
