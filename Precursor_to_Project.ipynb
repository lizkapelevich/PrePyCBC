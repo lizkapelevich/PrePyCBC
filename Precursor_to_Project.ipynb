{
 "cells": [
  {
   "cell_type": "markdown",
   "id": "824a96ee",
   "metadata": {},
   "source": [
    "# Creating, Planting, and Finding Signals Within Noise\n",
    "Elizabeth Kapelevich"
   ]
  },
  {
   "cell_type": "code",
   "execution_count": 18,
   "id": "152fcb44",
   "metadata": {},
   "outputs": [],
   "source": [
    "import time\n",
    "import math\n",
    "import numpy as np\n",
    "from scipy import interpolate\n",
    "import matplotlib.pyplot as plt\n",
    "import signals_and_noise as san"
   ]
  },
  {
   "cell_type": "code",
   "execution_count": 19,
   "id": "63022aa7",
   "metadata": {},
   "outputs": [],
   "source": [
    "Time1, Position1 = np.loadtxt(\"mock_data_challenge_1.dat\").T\n",
    "Time2, Position2 = np.loadtxt(\"mock_data_challenge_2.dat\").T"
   ]
  },
  {
   "cell_type": "markdown",
   "id": "158fee6b",
   "metadata": {},
   "source": [
    "## Main Goal for Week of 7/04:\n",
    "* Begin PyCBC and learn implementation\n",
    "### Mini-goal:\n",
    "* Adjust functions `template`, `integrator`, `cross_correlation`, and `frequency_time_search` to allow $\\sigma$ (standard deviation) as an array and output the corresponding value that relates to the cross-correlation and frequency."
   ]
  },
  {
   "cell_type": "code",
   "execution_count": 23,
   "id": "94ffd7c6",
   "metadata": {},
   "outputs": [],
   "source": [
    "def template(a, f, sigma, t_0, t_duration, data_time_stamps, ad_hoc_grid = 10000):\n",
    "    \n",
    "    del_T_data = np.diff(data_time_stamps)[0]   \n",
    "    t_end = t_duration + t_0\n",
    "    time_stamps = np.linspace(t_0, t_end + del_T_data, ad_hoc_grid)   \n",
    "    \n",
    "    t_mean = np.mean(time_stamps)\n",
    "    t_stamps, frequency = np.meshgrid(time_stamps, f)    \n",
    "\n",
    "    S = a*np.sin(2*np.pi*frequency*t_stamps)*np.exp((-(t_stamps - t_mean)**2)/(2*sigma))\n",
    "\n",
    "    all_templates = []        \n",
    "    \n",
    "    for i in range(len(f)):\n",
    "        s = S[i]\n",
    "        interpolant = interpolate.interp1d(time_stamps, s)\n",
    "        Template = interpolant(data_time_stamps[(data_time_stamps >= t_0)*(data_time_stamps <= t_end)])\n",
    "\n",
    "        template_series = np.zeros_like(data_time_stamps)   \n",
    "\n",
    "        index_prefix = template_series[data_time_stamps < t_0]\n",
    "        index_suffix = template_series[data_time_stamps > t_end]  \n",
    "\n",
    "        closest_to_t0 = data_time_stamps[np.argmin(np.abs(t_0 - data_time_stamps))] \n",
    "        closest_to_tend = data_time_stamps[np.argmin(np.abs(t_end - data_time_stamps))]\n",
    "\n",
    "        result = np.hstack((index_prefix, Template, index_suffix))  \n",
    "        all_templates.append(result) \n",
    "        \n",
    "    return all_templates"
   ]
  },
  {
   "cell_type": "code",
   "execution_count": 24,
   "id": "cfa112b5",
   "metadata": {},
   "outputs": [
    {
     "name": "stdout",
     "output_type": "stream",
     "text": [
      "94.67747473716736\n"
     ]
    }
   ],
   "source": [
    "start = time.time()\n",
    "my_temp = []\n",
    "\n",
    "f = np.linspace(0.1, 10, 500)\n",
    "\n",
    "for sigma in np.linspace(0.1, 2, 500):\n",
    "    my_temp.append(template(2.5, f, sigma, 2, 8, Time1))\n",
    "\n",
    "end = time.time()\n",
    "print(end - start)"
   ]
  },
  {
   "cell_type": "code",
   "execution_count": 15,
   "id": "9b8733f5",
   "metadata": {},
   "outputs": [],
   "source": [
    "a = 1.5\n",
    "f = np.linspace(0, 10, 20)\n",
    "sigma = np.linspace(0, 1, 10)\n",
    "t_0 = 2.01\n",
    "t_start = 2\n",
    "t_duration = 8\n",
    "t_max = 20\n",
    "data_time_series = [Time1, Position1]\n",
    "data_time_stamps = Time1\n",
    "del_T_0 = 0.012\n",
    "del_T = 0.012"
   ]
  },
  {
   "cell_type": "code",
   "execution_count": 16,
   "id": "be7a8bd0",
   "metadata": {},
   "outputs": [
    {
     "ename": "ValueError",
     "evalue": "operands could not be broadcast together with shapes (20,10000) (10,) ",
     "output_type": "error",
     "traceback": [
      "\u001b[0;31m---------------------------------------------------------------------------\u001b[0m",
      "\u001b[0;31mValueError\u001b[0m                                Traceback (most recent call last)",
      "\u001b[0;32m/var/folders/05/_m4lkjtn3p16v6rjlk_zcqvh0000gr/T/ipykernel_13471/2366793700.py\u001b[0m in \u001b[0;36m<module>\u001b[0;34m\u001b[0m\n\u001b[0;32m----> 1\u001b[0;31m \u001b[0mmy_template\u001b[0m \u001b[0;34m=\u001b[0m \u001b[0mtemplate\u001b[0m\u001b[0;34m(\u001b[0m\u001b[0ma\u001b[0m\u001b[0;34m,\u001b[0m \u001b[0mf\u001b[0m\u001b[0;34m,\u001b[0m \u001b[0msigma\u001b[0m\u001b[0;34m,\u001b[0m \u001b[0mt_0\u001b[0m\u001b[0;34m,\u001b[0m \u001b[0mt_duration\u001b[0m\u001b[0;34m,\u001b[0m \u001b[0mdata_time_stamps\u001b[0m\u001b[0;34m)\u001b[0m\u001b[0;34m\u001b[0m\u001b[0;34m\u001b[0m\u001b[0m\n\u001b[0m",
      "\u001b[0;32m/var/folders/05/_m4lkjtn3p16v6rjlk_zcqvh0000gr/T/ipykernel_13471/1047314572.py\u001b[0m in \u001b[0;36mtemplate\u001b[0;34m(a, f, sigma, t_0, t_duration, data_time_stamps, ad_hoc_grid)\u001b[0m\n\u001b[1;32m      8\u001b[0m     \u001b[0mt_stamps\u001b[0m\u001b[0;34m,\u001b[0m \u001b[0mfrequency\u001b[0m \u001b[0;34m=\u001b[0m \u001b[0mnp\u001b[0m\u001b[0;34m.\u001b[0m\u001b[0mmeshgrid\u001b[0m\u001b[0;34m(\u001b[0m\u001b[0mtime_stamps\u001b[0m\u001b[0;34m,\u001b[0m \u001b[0mf\u001b[0m\u001b[0;34m)\u001b[0m\u001b[0;34m\u001b[0m\u001b[0;34m\u001b[0m\u001b[0m\n\u001b[1;32m      9\u001b[0m \u001b[0;34m\u001b[0m\u001b[0m\n\u001b[0;32m---> 10\u001b[0;31m     \u001b[0mS\u001b[0m \u001b[0;34m=\u001b[0m \u001b[0ma\u001b[0m\u001b[0;34m*\u001b[0m\u001b[0mnp\u001b[0m\u001b[0;34m.\u001b[0m\u001b[0msin\u001b[0m\u001b[0;34m(\u001b[0m\u001b[0;36m2\u001b[0m\u001b[0;34m*\u001b[0m\u001b[0mnp\u001b[0m\u001b[0;34m.\u001b[0m\u001b[0mpi\u001b[0m\u001b[0;34m*\u001b[0m\u001b[0mfrequency\u001b[0m\u001b[0;34m*\u001b[0m\u001b[0mt_stamps\u001b[0m\u001b[0;34m)\u001b[0m\u001b[0;34m*\u001b[0m\u001b[0mnp\u001b[0m\u001b[0;34m.\u001b[0m\u001b[0mexp\u001b[0m\u001b[0;34m(\u001b[0m\u001b[0;34m(\u001b[0m\u001b[0;34m-\u001b[0m\u001b[0;34m(\u001b[0m\u001b[0mt_stamps\u001b[0m \u001b[0;34m-\u001b[0m \u001b[0mt_mean\u001b[0m\u001b[0;34m)\u001b[0m\u001b[0;34m**\u001b[0m\u001b[0;36m2\u001b[0m\u001b[0;34m)\u001b[0m\u001b[0;34m/\u001b[0m\u001b[0;34m(\u001b[0m\u001b[0;36m2\u001b[0m\u001b[0;34m*\u001b[0m\u001b[0msigma\u001b[0m\u001b[0;34m)\u001b[0m\u001b[0;34m)\u001b[0m\u001b[0;34m\u001b[0m\u001b[0;34m\u001b[0m\u001b[0m\n\u001b[0m\u001b[1;32m     11\u001b[0m     \u001b[0mprint\u001b[0m\u001b[0;34m(\u001b[0m\u001b[0mlen\u001b[0m\u001b[0;34m(\u001b[0m\u001b[0mS\u001b[0m\u001b[0;34m)\u001b[0m\u001b[0;34m)\u001b[0m\u001b[0;34m\u001b[0m\u001b[0;34m\u001b[0m\u001b[0m\n\u001b[1;32m     12\u001b[0m     \u001b[0mall_templates\u001b[0m \u001b[0;34m=\u001b[0m \u001b[0;34m[\u001b[0m\u001b[0;34m]\u001b[0m\u001b[0;34m\u001b[0m\u001b[0;34m\u001b[0m\u001b[0m\n",
      "\u001b[0;31mValueError\u001b[0m: operands could not be broadcast together with shapes (20,10000) (10,) "
     ]
    }
   ],
   "source": [
    "my_template = template(a, f, sigma, t_0, t_duration, data_time_stamps)"
   ]
  },
  {
   "cell_type": "code",
   "execution_count": null,
   "id": "6b92e63a",
   "metadata": {},
   "outputs": [],
   "source": []
  }
 ],
 "metadata": {
  "kernelspec": {
   "display_name": "Research",
   "language": "python",
   "name": "research"
  },
  "language_info": {
   "codemirror_mode": {
    "name": "ipython",
    "version": 3
   },
   "file_extension": ".py",
   "mimetype": "text/x-python",
   "name": "python",
   "nbconvert_exporter": "python",
   "pygments_lexer": "ipython3",
   "version": "3.9.7"
  }
 },
 "nbformat": 4,
 "nbformat_minor": 5
}
