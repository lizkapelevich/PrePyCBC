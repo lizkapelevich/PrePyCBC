{
 "cells": [
  {
   "cell_type": "markdown",
   "id": "824a96ee",
   "metadata": {},
   "source": [
    "# Creating, Planting, and Finding Signals Within Noise\n",
    "Elizabeth Kapelevich"
   ]
  },
  {
   "cell_type": "code",
   "execution_count": 1,
   "id": "152fcb44",
   "metadata": {},
   "outputs": [],
   "source": [
    "import math\n",
    "import numpy as np\n",
    "from scipy import interpolate\n",
    "import matplotlib.pyplot as plt\n",
    "import signals_and_noise as san"
   ]
  },
  {
   "cell_type": "code",
   "execution_count": 2,
   "id": "63022aa7",
   "metadata": {},
   "outputs": [],
   "source": [
    "Time1, Position1 = np.loadtxt(\"mock_data_challenge_1.dat\").T\n",
    "Time2, Position2 = np.loadtxt(\"mock_data_challenge_2.dat\").T"
   ]
  },
  {
   "cell_type": "code",
   "execution_count": null,
   "id": "9d5fed96",
   "metadata": {
    "scrolled": false
   },
   "outputs": [],
   "source": [
    "%%timeit\n",
    "san.fs_search(0.012, 2, 20, [Time1, Position1], 1.5, 8, 0.012, 2.0, 20, 10, 2.0, 10, 5.0)"
   ]
  },
  {
   "cell_type": "code",
   "execution_count": null,
   "id": "1c72550b",
   "metadata": {},
   "outputs": [],
   "source": [
    "san.fs_search(0.012, 2, 20, [Time2, Position2], 0.5, 4, 0.012, 2.0, 20, 0.5, 2.0, 10, 0.5)"
   ]
  },
  {
   "cell_type": "code",
   "execution_count": null,
   "id": "eb974ecd",
   "metadata": {},
   "outputs": [],
   "source": [
    "def template(A, f, sigma, t_0, t_duration, data_time_stamps, ad_hoc_grid = 10000):\n",
    "    \n",
    "    del_T_data = np.diff(data_time_stamps)[0]\n",
    "    t_end = t_duration + t_0\n",
    "    time_stamps = np.linspace(t_0, t_end + del_T_data, ad_hoc_grid)\n",
    "    \n",
    "    t_mean = np.mean(time_stamps)\n",
    "    S = A*np.sin(2*np.pi*f*time_stamps)*np.exp((-(time_stamps - t_mean)**2)/(2*sigma))\n",
    " \n",
    "    s = interpolate.interp1d(time_stamps, S)\n",
    "    Template = s(data_time_stamps[(data_time_stamps >= t_0)*(data_time_stamps <= t_end)])\n",
    "    \n",
    "    template_series = np.zeros_like(data_time_stamps)\n",
    "    \n",
    "    index_prefix = template_series[data_time_stamps < t_0]\n",
    "    index_suffix = template_series[data_time_stamps > t_end]\n",
    "    \n",
    "    closest_to_t0 = data_time_stamps[np.argmin(np.abs(t_0 - data_time_stamps))]\n",
    "    closest_to_tend = data_time_stamps[np.argmin(np.abs(t_end - data_time_stamps))]\n",
    "    \n",
    "    return np.hstack((index_prefix, Template, index_suffix))"
   ]
  },
  {
   "cell_type": "markdown",
   "id": "a6fe6dad",
   "metadata": {},
   "source": [
    "### Meshgrid Assignment:"
   ]
  },
  {
   "cell_type": "markdown",
   "id": "a73ed64e",
   "metadata": {},
   "source": [
    "Meshgrid creates matrices that have proportionate sizes.\n",
    "* Within the `template` function, create a meshgrid that will allow many different values of frequencies that can be multiplied with many different values of the `S` equation.\n",
    "* Try printing the multiplied values to make sure it is being calculated properly. Once it works, include sigma within the calculation so those values are also multiplied with different values from the `S` equation."
   ]
  },
  {
   "cell_type": "code",
   "execution_count": 4,
   "id": "8a38ebd8",
   "metadata": {},
   "outputs": [],
   "source": [
    "a = np.array([1, 2, 3, 4, 5])\n",
    "b = np.array([10, 20, 30, 40, 50])"
   ]
  },
  {
   "cell_type": "code",
   "execution_count": 7,
   "id": "7e49e50c",
   "metadata": {},
   "outputs": [
    {
     "name": "stdout",
     "output_type": "stream",
     "text": [
      "[[ 10  20  30  40  50]\n",
      " [ 20  40  60  80 100]\n",
      " [ 30  60  90 120 150]\n",
      " [ 40  80 120 160 200]\n",
      " [ 50 100 150 200 250]]\n"
     ]
    }
   ],
   "source": [
    "A, B = np.meshgrid(a, b)\n",
    "print(A*B)"
   ]
  }
 ],
 "metadata": {
  "kernelspec": {
   "display_name": "Research",
   "language": "python",
   "name": "research"
  },
  "language_info": {
   "codemirror_mode": {
    "name": "ipython",
    "version": 3
   },
   "file_extension": ".py",
   "mimetype": "text/x-python",
   "name": "python",
   "nbconvert_exporter": "python",
   "pygments_lexer": "ipython3",
   "version": "3.9.7"
  }
 },
 "nbformat": 4,
 "nbformat_minor": 5
}
