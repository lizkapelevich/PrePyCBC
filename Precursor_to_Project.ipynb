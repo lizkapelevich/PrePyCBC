{
 "cells": [
  {
   "cell_type": "markdown",
   "id": "824a96ee",
   "metadata": {},
   "source": [
    "# Creating, Planting, and Finding Signals Within Noise\n",
    "Elizabeth Kapelevich"
   ]
  },
  {
   "cell_type": "code",
   "execution_count": 2,
   "id": "152fcb44",
   "metadata": {},
   "outputs": [],
   "source": [
    "import math\n",
    "import numpy as np\n",
    "from scipy import interpolate\n",
    "import matplotlib.pyplot as plt\n",
    "import signals_and_noise as san"
   ]
  },
  {
   "cell_type": "code",
   "execution_count": 6,
   "id": "63022aa7",
   "metadata": {},
   "outputs": [],
   "source": [
    "Time1, Position1 = np.loadtxt(\"mock_data_challenge_1.dat\").T\n",
    "Time2, Position2 = np.loadtxt(\"mock_data_challenge_2.dat\").T"
   ]
  },
  {
   "cell_type": "code",
   "execution_count": 31,
   "id": "19453b84",
   "metadata": {},
   "outputs": [],
   "source": [
    "def fs_search(del_T_0, t_start, t_max, data_time_series, a, f, sigma, t_duration, del_T):\n",
    "    \n",
    "    frequency_list = []                                          # creating empty array to store other arrays\n",
    "    sigma_list = []\n",
    "    time_list = []\n",
    "    crosscorr_list = []\n",
    "    \n",
    "    frequency_values = np.arange(0.01, 20, 1)                    # setting up ranges for which to run loops\n",
    "    sigma_values = np.arange(0.01, 10, 1)\n",
    "\n",
    "    for frequency in frequency_values:\n",
    "        for s in sigma_values:\n",
    "            times, C = san.cross_correlation(del_T_0, t_start, t_max,             # running calculation\n",
    "                            data_time_series, a, frequency, s, t_duration, del_T)\n",
    "            time_list.append(times)                              # appending arrays into empty lists\n",
    "            crosscorr_list.append(C)\n",
    "            frequency_list.append(frequency)\n",
    "            sigma_list.append(s)\n",
    "\n",
    "    frequency_list = frequency_list.flatten()                    # flattening 2-D arrays into 1-D\n",
    "    sigma_list = sigma_list.flatten()\n",
    "    time_list = time_list.flatten()\n",
    "    crosscorr_list = crosscorr_list.flatten()\n",
    "    \n",
    "    largest_value_index = np.argmax(crosscorr_list)              # finding index of largest value in array\n",
    "    frequency_correct = frequency_list[largest_value_index]      # finding corresponding value using index\n",
    "    sigma_correct = sigma_list[largest_value_index]\n",
    "    \n",
    "    return frequency_correct, sigma_correct                      # returning two values"
   ]
  },
  {
   "cell_type": "code",
   "execution_count": 32,
   "id": "7d1b8d74",
   "metadata": {},
   "outputs": [
    {
     "ename": "ValueError",
     "evalue": "operands could not be broadcast together with shapes (2,2) (10000,) ",
     "output_type": "error",
     "traceback": [
      "\u001b[0;31m---------------------------------------------------------------------------\u001b[0m",
      "\u001b[0;31mValueError\u001b[0m                                Traceback (most recent call last)",
      "\u001b[0;32m/var/folders/05/_m4lkjtn3p16v6rjlk_zcqvh0000gr/T/ipykernel_21150/3030772052.py\u001b[0m in \u001b[0;36m<module>\u001b[0;34m\u001b[0m\n\u001b[0;32m----> 1\u001b[0;31m \u001b[0mfs_search\u001b[0m\u001b[0;34m(\u001b[0m\u001b[0mdel_T_0\u001b[0m\u001b[0;34m,\u001b[0m \u001b[0mt_start\u001b[0m\u001b[0;34m,\u001b[0m \u001b[0mt_max\u001b[0m\u001b[0;34m,\u001b[0m \u001b[0mdata_time_series\u001b[0m\u001b[0;34m,\u001b[0m \u001b[0ma\u001b[0m\u001b[0;34m,\u001b[0m \u001b[0mf\u001b[0m\u001b[0;34m,\u001b[0m \u001b[0msigma\u001b[0m\u001b[0;34m,\u001b[0m \u001b[0mt_duration\u001b[0m\u001b[0;34m,\u001b[0m \u001b[0mdel_T\u001b[0m\u001b[0;34m)\u001b[0m\u001b[0;34m\u001b[0m\u001b[0;34m\u001b[0m\u001b[0m\n\u001b[0m",
      "\u001b[0;32m/var/folders/05/_m4lkjtn3p16v6rjlk_zcqvh0000gr/T/ipykernel_21150/2080319484.py\u001b[0m in \u001b[0;36mfs_search\u001b[0;34m(del_T_0, t_start, t_max, data_time_series, a, f, sigma, t_duration, del_T)\u001b[0m\n\u001b[1;32m     11\u001b[0m     \u001b[0;32mfor\u001b[0m \u001b[0mfrequency\u001b[0m \u001b[0;32min\u001b[0m \u001b[0mfrequency_values\u001b[0m\u001b[0;34m:\u001b[0m\u001b[0;34m\u001b[0m\u001b[0;34m\u001b[0m\u001b[0m\n\u001b[1;32m     12\u001b[0m         \u001b[0;32mfor\u001b[0m \u001b[0ms\u001b[0m \u001b[0;32min\u001b[0m \u001b[0msigma_values\u001b[0m\u001b[0;34m:\u001b[0m\u001b[0;34m\u001b[0m\u001b[0;34m\u001b[0m\u001b[0m\n\u001b[0;32m---> 13\u001b[0;31m             times, C = san.cross_correlation(del_T_0, t_start, t_max, \n\u001b[0m\u001b[1;32m     14\u001b[0m                             data_time_series, a, frequency, s, t_duration, del_T)\n\u001b[1;32m     15\u001b[0m             \u001b[0mtime_list\u001b[0m\u001b[0;34m.\u001b[0m\u001b[0mappend\u001b[0m\u001b[0;34m(\u001b[0m\u001b[0mtimes\u001b[0m\u001b[0;34m)\u001b[0m\u001b[0;34m\u001b[0m\u001b[0;34m\u001b[0m\u001b[0m\n",
      "\u001b[0;32m~/Projects/PrePyCBC/signals_and_noise.py\u001b[0m in \u001b[0;36mcross_correlation\u001b[0;34m(del_T_0, t_start, t_max, data_time_series, a, f, sigma, t_duration, del_T)\u001b[0m\n\u001b[1;32m    224\u001b[0m         \u001b[0mtime_stamps\u001b[0m\u001b[0;34m.\u001b[0m\u001b[0mappend\u001b[0m\u001b[0;34m(\u001b[0m\u001b[0mt_start\u001b[0m\u001b[0;34m)\u001b[0m\u001b[0;34m\u001b[0m\u001b[0;34m\u001b[0m\u001b[0m\n\u001b[1;32m    225\u001b[0m \u001b[0;34m\u001b[0m\u001b[0m\n\u001b[0;32m--> 226\u001b[0;31m         \u001b[0minteg\u001b[0m \u001b[0;34m=\u001b[0m \u001b[0mintegrator\u001b[0m\u001b[0;34m(\u001b[0m\u001b[0mdata_time_series\u001b[0m\u001b[0;34m,\u001b[0m \u001b[0ma\u001b[0m\u001b[0;34m,\u001b[0m \u001b[0mf\u001b[0m\u001b[0;34m,\u001b[0m \u001b[0msigma\u001b[0m\u001b[0;34m,\u001b[0m \u001b[0mt_start\u001b[0m\u001b[0;34m,\u001b[0m \u001b[0mt_duration\u001b[0m\u001b[0;34m,\u001b[0m \u001b[0mdel_T\u001b[0m\u001b[0;34m)\u001b[0m\u001b[0;34m\u001b[0m\u001b[0;34m\u001b[0m\u001b[0m\n\u001b[0m\u001b[1;32m    227\u001b[0m         \u001b[0mC\u001b[0m\u001b[0;34m.\u001b[0m\u001b[0mappend\u001b[0m\u001b[0;34m(\u001b[0m\u001b[0minteg\u001b[0m\u001b[0;34m)\u001b[0m                            \u001b[0;31m# computing integral over all 'sections'\u001b[0m\u001b[0;34m\u001b[0m\u001b[0;34m\u001b[0m\u001b[0m\n\u001b[1;32m    228\u001b[0m \u001b[0;34m\u001b[0m\u001b[0m\n",
      "\u001b[0;32m~/Projects/PrePyCBC/signals_and_noise.py\u001b[0m in \u001b[0;36mintegrator\u001b[0;34m(data_time_series, a, f, sigma, t_0, t_duration, del_T)\u001b[0m\n\u001b[1;32m    182\u001b[0m \u001b[0;34m\u001b[0m\u001b[0m\n\u001b[1;32m    183\u001b[0m     \u001b[0mdata_time_stamps\u001b[0m \u001b[0;34m=\u001b[0m \u001b[0mdata_time_series\u001b[0m\u001b[0;34m[\u001b[0m\u001b[0;36m0\u001b[0m\u001b[0;34m]\u001b[0m\u001b[0;34m\u001b[0m\u001b[0;34m\u001b[0m\u001b[0m\n\u001b[0;32m--> 184\u001b[0;31m     \u001b[0mtemp\u001b[0m \u001b[0;34m=\u001b[0m \u001b[0mtemplate\u001b[0m\u001b[0;34m(\u001b[0m\u001b[0ma\u001b[0m\u001b[0;34m,\u001b[0m \u001b[0mf\u001b[0m\u001b[0;34m,\u001b[0m \u001b[0msigma\u001b[0m\u001b[0;34m,\u001b[0m \u001b[0mt_0\u001b[0m\u001b[0;34m,\u001b[0m \u001b[0mt_duration\u001b[0m\u001b[0;34m,\u001b[0m \u001b[0mdata_time_stamps\u001b[0m\u001b[0;34m)\u001b[0m\u001b[0;34m\u001b[0m\u001b[0;34m\u001b[0m\u001b[0m\n\u001b[0m\u001b[1;32m    185\u001b[0m \u001b[0;34m\u001b[0m\u001b[0m\n\u001b[1;32m    186\u001b[0m     \u001b[0mresult\u001b[0m \u001b[0;34m=\u001b[0m \u001b[0;36m0\u001b[0m                                          \u001b[0;31m# initializing the value of the variable\u001b[0m\u001b[0;34m\u001b[0m\u001b[0;34m\u001b[0m\u001b[0m\n",
      "\u001b[0;32m~/Projects/PrePyCBC/signals_and_noise.py\u001b[0m in \u001b[0;36mtemplate\u001b[0;34m(A, f, sigma, t_0, t_duration, data_time_stamps, ad_hoc_grid)\u001b[0m\n\u001b[1;32m    139\u001b[0m \u001b[0;34m\u001b[0m\u001b[0m\n\u001b[1;32m    140\u001b[0m     \u001b[0mt_mean\u001b[0m \u001b[0;34m=\u001b[0m \u001b[0mnp\u001b[0m\u001b[0;34m.\u001b[0m\u001b[0mmean\u001b[0m\u001b[0;34m(\u001b[0m\u001b[0mtime_stamps\u001b[0m\u001b[0;34m)\u001b[0m\u001b[0;34m\u001b[0m\u001b[0;34m\u001b[0m\u001b[0m\n\u001b[0;32m--> 141\u001b[0;31m     \u001b[0mS\u001b[0m \u001b[0;34m=\u001b[0m \u001b[0mA\u001b[0m\u001b[0;34m*\u001b[0m\u001b[0mnp\u001b[0m\u001b[0;34m.\u001b[0m\u001b[0msin\u001b[0m\u001b[0;34m(\u001b[0m\u001b[0;36m2\u001b[0m\u001b[0;34m*\u001b[0m\u001b[0mnp\u001b[0m\u001b[0;34m.\u001b[0m\u001b[0mpi\u001b[0m\u001b[0;34m*\u001b[0m\u001b[0mf\u001b[0m\u001b[0;34m*\u001b[0m\u001b[0mtime_stamps\u001b[0m\u001b[0;34m)\u001b[0m\u001b[0;34m*\u001b[0m\u001b[0mnp\u001b[0m\u001b[0;34m.\u001b[0m\u001b[0mexp\u001b[0m\u001b[0;34m(\u001b[0m\u001b[0;34m(\u001b[0m\u001b[0;34m-\u001b[0m\u001b[0;34m(\u001b[0m\u001b[0mtime_stamps\u001b[0m \u001b[0;34m-\u001b[0m \u001b[0mt_mean\u001b[0m\u001b[0;34m)\u001b[0m\u001b[0;34m**\u001b[0m\u001b[0;36m2\u001b[0m\u001b[0;34m)\u001b[0m\u001b[0;34m/\u001b[0m\u001b[0;34m(\u001b[0m\u001b[0;36m2\u001b[0m\u001b[0;34m*\u001b[0m\u001b[0msigma\u001b[0m\u001b[0;34m)\u001b[0m\u001b[0;34m)\u001b[0m \u001b[0;31m# evaluation in ad-hoc grid\u001b[0m\u001b[0;34m\u001b[0m\u001b[0;34m\u001b[0m\u001b[0m\n\u001b[0m\u001b[1;32m    142\u001b[0m \u001b[0;34m\u001b[0m\u001b[0m\n\u001b[1;32m    143\u001b[0m     \u001b[0mdel_T_data\u001b[0m \u001b[0;34m=\u001b[0m \u001b[0mnp\u001b[0m\u001b[0;34m.\u001b[0m\u001b[0mdiff\u001b[0m\u001b[0;34m(\u001b[0m\u001b[0mdata_time_stamps\u001b[0m\u001b[0;34m)\u001b[0m\u001b[0;34m[\u001b[0m\u001b[0;36m0\u001b[0m\u001b[0;34m]\u001b[0m\u001b[0;34m\u001b[0m\u001b[0;34m\u001b[0m\u001b[0m\n",
      "\u001b[0;31mValueError\u001b[0m: operands could not be broadcast together with shapes (2,2) (10000,) "
     ]
    }
   ],
   "source": [
    "fs_search(del_T_0, t_start, t_max, data_time_series, a, f, sigma, t_duration, del_T)"
   ]
  },
  {
   "cell_type": "code",
   "execution_count": 3,
   "id": "4278fc70",
   "metadata": {},
   "outputs": [],
   "source": [
    "x = np.array([1, 2, 3, 4, 5, 6, 7, 8, 9, 10])\n",
    "y = np.array([1, 2, 3, 4, 5, 6, 7, 8, 9, 10])"
   ]
  },
  {
   "cell_type": "code",
   "execution_count": 4,
   "id": "0b612766",
   "metadata": {},
   "outputs": [],
   "source": [
    "def add(x, y):\n",
    "    \n",
    "    z = x + y\n",
    "    \n",
    "    return z"
   ]
  },
  {
   "cell_type": "code",
   "execution_count": 5,
   "id": "97ac3242",
   "metadata": {},
   "outputs": [
    {
     "data": {
      "text/plain": [
       "array([ 2,  4,  6,  8, 10, 12, 14, 16, 18, 20])"
      ]
     },
     "execution_count": 5,
     "metadata": {},
     "output_type": "execute_result"
    }
   ],
   "source": [
    "add(x, y)"
   ]
  },
  {
   "cell_type": "code",
   "execution_count": null,
   "id": "ca0b92a9",
   "metadata": {},
   "outputs": [],
   "source": []
  }
 ],
 "metadata": {
  "kernelspec": {
   "display_name": "Research",
   "language": "python",
   "name": "research"
  },
  "language_info": {
   "codemirror_mode": {
    "name": "ipython",
    "version": 3
   },
   "file_extension": ".py",
   "mimetype": "text/x-python",
   "name": "python",
   "nbconvert_exporter": "python",
   "pygments_lexer": "ipython3",
   "version": "3.9.7"
  }
 },
 "nbformat": 4,
 "nbformat_minor": 5
}
