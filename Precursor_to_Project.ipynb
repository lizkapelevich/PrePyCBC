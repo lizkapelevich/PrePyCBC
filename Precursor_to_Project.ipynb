{
 "cells": [
  {
   "cell_type": "markdown",
   "id": "824a96ee",
   "metadata": {},
   "source": [
    "# Creating, Planting, and Finding Signals Within Noise\n",
    "Elizabeth Kapelevich"
   ]
  },
  {
   "cell_type": "code",
   "execution_count": 2,
   "id": "152fcb44",
   "metadata": {},
   "outputs": [],
   "source": [
    "import math\n",
    "import numpy as np\n",
    "from scipy import interpolate\n",
    "import matplotlib.pyplot as plt\n",
    "import signals_and_noise as san"
   ]
  },
  {
   "cell_type": "code",
   "execution_count": 3,
   "id": "63022aa7",
   "metadata": {},
   "outputs": [],
   "source": [
    "Time1, Position1 = np.loadtxt(\"mock_data_challenge_1.dat\").T\n",
    "Time2, Position2 = np.loadtxt(\"mock_data_challenge_2.dat\").T"
   ]
  },
  {
   "cell_type": "markdown",
   "id": "158fee6b",
   "metadata": {},
   "source": [
    "## Main Goal for Week of 6/27:\n",
    "Adjust the `template`, `integrator`, `cross_correlation`, and `fs_search` functions to take a frequency array as input and output the proper result.\n",
    "#### Tasks:\n",
    "* $\\checkmark$ Within the `template` function, create a meshgrid that will allow many different values of frequencies that can be used by many different values of the `S` equation.\n",
    "* $\\checkmark$ Using a for-loop, evaluate ` S ` over values of ` frequency ` and ` time_stamps ` so that the output is an array of ` S ` values. $\\checkmark$\n",
    "* Once that is complete, go through the ` integrator ` function and the ` cross_correlation ` function and update the code so that the frequency parameter can be properly passed as an array and calculated.\n",
    "* Note: Adjusting/creating for-loops and meshgrids may help."
   ]
  },
  {
   "cell_type": "markdown",
   "id": "1dd02a7f",
   "metadata": {},
   "source": [
    "#### The main goal is to find the global maximum of the cross-correlation and apply its index to the frequency array to find the corresponding value.\n",
    "\n",
    "For the following function, the error describes that the index of the `C` array is too large to be applied towards the `frequency` array, therefore the value for `frequency` cannot be found. The goal is to find the largest `C` value's index and apply it to the `frequency` array to find the corresponding value. `C` is a 2-D array composed of a list of integration results at a particular position that are sliding around the data. "
   ]
  },
  {
   "cell_type": "markdown",
   "id": "03c88ddb",
   "metadata": {},
   "source": [
    "When using `np.argmax()`, it will spit out the index of the largest value in an array. When the array is more than one dimension, it does not specify the row and column of that largest value, it still only outputs its index. To fix this issue, it is necessary to specify the `axis`, in this case `axis = 1` so we are finding the column index. The output will have a list of values that state the amount of elements in an array, which array it is, and the index of the element in that array. The only thing we are looking for is that last value, therefore we add `[-1]` after the `np.argmax()` function."
   ]
  },
  {
   "cell_type": "code",
   "execution_count": 77,
   "id": "7c57ef64",
   "metadata": {},
   "outputs": [],
   "source": [
    "def frequency_search(del_T_0, t_start, t_max, \n",
    "             data_time_series, a, f, sigma, t_duration, del_T):\n",
    "    \n",
    "    times, C = san.cross_correlation(del_T_0, t_start, t_max, data_time_series, \n",
    "                                 a, f, sigma, t_duration, del_T)\n",
    "    \n",
    "    max_index_C = (np.argmax(C,  axis=1)[-1])\n",
    "\n",
    "    frequency_correct = f[max_index_C]\n",
    "    \n",
    "    return frequency_correct"
   ]
  },
  {
   "cell_type": "code",
   "execution_count": 78,
   "id": "9b8733f5",
   "metadata": {},
   "outputs": [],
   "source": [
    "a = 1.5\n",
    "f = np.array([1, 2, 3])\n",
    "sigma = 0.1\n",
    "t_0 = 0\n",
    "t_start = 2\n",
    "t_duration = 8\n",
    "t_max = 20\n",
    "data_time_series = [Time1, Position1]\n",
    "data_time_stamps = Time1\n",
    "del_T_0 = 0.012\n",
    "del_T = 0.012"
   ]
  },
  {
   "cell_type": "code",
   "execution_count": 79,
   "id": "5f9a37e6",
   "metadata": {},
   "outputs": [
    {
     "ename": "IndexError",
     "evalue": "index 340 is out of bounds for axis 0 with size 3",
     "output_type": "error",
     "traceback": [
      "\u001b[0;31m---------------------------------------------------------------------------\u001b[0m",
      "\u001b[0;31mIndexError\u001b[0m                                Traceback (most recent call last)",
      "\u001b[0;32m/var/folders/05/_m4lkjtn3p16v6rjlk_zcqvh0000gr/T/ipykernel_39343/763189025.py\u001b[0m in \u001b[0;36m<module>\u001b[0;34m\u001b[0m\n\u001b[0;32m----> 1\u001b[0;31m \u001b[0msearch\u001b[0m \u001b[0;34m=\u001b[0m \u001b[0mfrequency_search\u001b[0m\u001b[0;34m(\u001b[0m\u001b[0mdel_T_0\u001b[0m\u001b[0;34m,\u001b[0m \u001b[0mt_start\u001b[0m\u001b[0;34m,\u001b[0m \u001b[0mt_max\u001b[0m\u001b[0;34m,\u001b[0m \u001b[0mdata_time_series\u001b[0m\u001b[0;34m,\u001b[0m \u001b[0ma\u001b[0m\u001b[0;34m,\u001b[0m \u001b[0mf\u001b[0m\u001b[0;34m,\u001b[0m \u001b[0msigma\u001b[0m\u001b[0;34m,\u001b[0m \u001b[0mt_duration\u001b[0m\u001b[0;34m,\u001b[0m \u001b[0mdel_T\u001b[0m\u001b[0;34m)\u001b[0m\u001b[0;34m\u001b[0m\u001b[0;34m\u001b[0m\u001b[0m\n\u001b[0m",
      "\u001b[0;32m/var/folders/05/_m4lkjtn3p16v6rjlk_zcqvh0000gr/T/ipykernel_39343/3942596004.py\u001b[0m in \u001b[0;36mfrequency_search\u001b[0;34m(del_T_0, t_start, t_max, data_time_series, a, f, sigma, t_duration, del_T)\u001b[0m\n\u001b[1;32m      7\u001b[0m     \u001b[0mmax_index_C\u001b[0m \u001b[0;34m=\u001b[0m \u001b[0;34m(\u001b[0m\u001b[0mnp\u001b[0m\u001b[0;34m.\u001b[0m\u001b[0margmax\u001b[0m\u001b[0;34m(\u001b[0m\u001b[0mC\u001b[0m\u001b[0;34m,\u001b[0m  \u001b[0maxis\u001b[0m\u001b[0;34m=\u001b[0m\u001b[0;36m1\u001b[0m\u001b[0;34m)\u001b[0m\u001b[0;34m)\u001b[0m\u001b[0;34m\u001b[0m\u001b[0;34m\u001b[0m\u001b[0m\n\u001b[1;32m      8\u001b[0m \u001b[0;34m\u001b[0m\u001b[0m\n\u001b[0;32m----> 9\u001b[0;31m     \u001b[0mfrequency_correct\u001b[0m \u001b[0;34m=\u001b[0m \u001b[0mf\u001b[0m\u001b[0;34m[\u001b[0m\u001b[0mmax_index_C\u001b[0m\u001b[0;34m]\u001b[0m\u001b[0;34m\u001b[0m\u001b[0;34m\u001b[0m\u001b[0m\n\u001b[0m\u001b[1;32m     10\u001b[0m \u001b[0;34m\u001b[0m\u001b[0m\n\u001b[1;32m     11\u001b[0m     \u001b[0;32mreturn\u001b[0m \u001b[0mfrequency_correct\u001b[0m\u001b[0;34m\u001b[0m\u001b[0;34m\u001b[0m\u001b[0m\n",
      "\u001b[0;31mIndexError\u001b[0m: index 340 is out of bounds for axis 0 with size 3"
     ]
    }
   ],
   "source": [
    "search = frequency_search(del_T_0, t_start, t_max, data_time_series, a, f, sigma, t_duration, del_T)"
   ]
  },
  {
   "cell_type": "code",
   "execution_count": 80,
   "id": "e9a6b9c4",
   "metadata": {},
   "outputs": [
    {
     "name": "stdout",
     "output_type": "stream",
     "text": [
      "[2 2 1]\n",
      "1\n"
     ]
    }
   ],
   "source": [
    "a = np.array([[1, 2, 3], [4, 5, 6], [7, 9, 8]])\n",
    "print(np.argmax(a,  axis=1))\n",
    "print(np.argmax(a,  axis=1)[-1])"
   ]
  },
  {
   "cell_type": "code",
   "execution_count": null,
   "id": "10911f88",
   "metadata": {},
   "outputs": [],
   "source": []
  }
 ],
 "metadata": {
  "kernelspec": {
   "display_name": "Research",
   "language": "python",
   "name": "research"
  },
  "language_info": {
   "codemirror_mode": {
    "name": "ipython",
    "version": 3
   },
   "file_extension": ".py",
   "mimetype": "text/x-python",
   "name": "python",
   "nbconvert_exporter": "python",
   "pygments_lexer": "ipython3",
   "version": "3.9.7"
  }
 },
 "nbformat": 4,
 "nbformat_minor": 5
}
