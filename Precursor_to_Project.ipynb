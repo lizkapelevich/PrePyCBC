{
 "cells": [
  {
   "cell_type": "markdown",
   "id": "824a96ee",
   "metadata": {},
   "source": [
    "# Creating, Planting, and Finding Signals Within Noise\n",
    "Elizabeth Kapelevich"
   ]
  },
  {
   "cell_type": "code",
   "execution_count": 2,
   "id": "152fcb44",
   "metadata": {},
   "outputs": [],
   "source": [
    "import math\n",
    "import numpy as np\n",
    "from scipy import interpolate\n",
    "import matplotlib.pyplot as plt\n",
    "import signals_and_noise as san"
   ]
  },
  {
   "cell_type": "code",
   "execution_count": 12,
   "id": "63022aa7",
   "metadata": {},
   "outputs": [],
   "source": [
    "Time1, Position1 = np.loadtxt(\"mock_data_challenge_1.dat\").T\n",
    "Time2, Position2 = np.loadtxt(\"mock_data_challenge_2.dat\").T"
   ]
  },
  {
   "cell_type": "code",
   "execution_count": null,
   "id": "9d5fed96",
   "metadata": {
    "scrolled": false
   },
   "outputs": [],
   "source": [
    "%%timeit\n",
    "san.fs_search(0.012, 2, 20, [Time1, Position1], 1.5, 8, 0.012, 2.0, 20, 10, 2.0, 10, 5.0)"
   ]
  },
  {
   "cell_type": "code",
   "execution_count": null,
   "id": "1c72550b",
   "metadata": {},
   "outputs": [],
   "source": [
    "%%timeit\n",
    "san.fs_search(0.012, 2, 20, [Time2, Position2], 0.5, 4, 0.012, 2.0, 20, 0.5, 2.0, 10, 0.5)"
   ]
  },
  {
   "cell_type": "markdown",
   "id": "8bce5740",
   "metadata": {},
   "source": [
    "## Meshgrid For-Loop Assignment: \n",
    "Meshgrid creates matrices that have proportionate sizes.\n",
    "* Within the `template` function, create a meshgrid that will allow many different values of frequencies that can be used by many different values of the `S` equation.\n",
    "* Using a for-loop, evaluate ` S ` over values of ` frequency ` and ` time_stamps ` so that the output is an array of ` S ` values.\n",
    "* Once that is complete, now go through ` integrator ` function and ` cross_correlation ` function and update the code so that the frequency parameter can be properly passed as an array and be properly calculated. Using a meshgrid will help."
   ]
  },
  {
   "cell_type": "code",
   "execution_count": 86,
   "id": "eb974ecd",
   "metadata": {},
   "outputs": [],
   "source": [
    "def template(a, f, sigma, t_0, t_duration, data_time_stamps, ad_hoc_grid = 10000):\n",
    "    \n",
    "    \"\"\"\n",
    "    This function will take as input the frequency, standard\n",
    "    deviation, initial time, duration time, and interval\n",
    "    of time between each value.\n",
    "    \n",
    "    INPUT:\n",
    "    ------\n",
    "    A : amplitude\n",
    "    f : array of frequencies\n",
    "    sigma : array of standard deviations\n",
    "    t_0 : start time of a signal\n",
    "    t_duration : duration of time for the signal\n",
    "    data_time_stamps : time stamps from the data\n",
    "    \n",
    "    RETURNS:\n",
    "    --------\n",
    "    A template that will match the given signal with \n",
    "    the proper frequency and standard deviation using\n",
    "    zero-padding.\n",
    "\n",
    "    \"\"\"\n",
    "    \n",
    "    del_T_data = np.diff(data_time_stamps)[0]                       # finding interval between values\n",
    "    t_end = t_duration + t_0\n",
    "    time_stamps = np.linspace(t_0, t_end + del_T_data, ad_hoc_grid) # creating array of values with random step-size\n",
    "    \n",
    "    t_mean = np.mean(time_stamps)\n",
    "    t_stamps, frequency = np.meshgrid(time_stamps, f)                       # setting up a matrix for interpolation\n",
    "\n",
    "    S = a*np.sin(2*np.pi*frequency*t_stamps)*np.exp((-(t_stamps - t_mean)**2)/(2*sigma)) # evaluation in ad-hoc grid\n",
    "    # print(len(S[0])) -> how many measurements of frequency\n",
    "    print(len(f))\n",
    "    print(len(time_stamps))\n",
    "    all_templates = []                                                   # empty list that will store Template values\n",
    "    \n",
    "    for i in range(len(f)):\n",
    "        s = S[i] # not sure how to set this up\n",
    "        interpolant = interpolate.interp1d(time_stamps, s)             # prepping interpolation of signal in time-stamps of data-grid\n",
    "        Template = interpolant(data_time_stamps[(data_time_stamps >= t_0)*(data_time_stamps <= t_end)]) # interpolating using bounds\n",
    "\n",
    "        template_series = np.zeros_like(data_time_stamps)           # template time-stamps same length as data time-stamps\n",
    "\n",
    "        index_prefix = template_series[data_time_stamps < t_0]      # zero-padding template on the left side\n",
    "        index_suffix = template_series[data_time_stamps > t_end]    # zero-padding template on the right side\n",
    "\n",
    "        closest_to_t0 = data_time_stamps[np.argmin(np.abs(t_0 - data_time_stamps))]     # approximating minimum value near beginning of template\n",
    "        closest_to_tend = data_time_stamps[np.argmin(np.abs(t_end - data_time_stamps))] # approximating minimum value near ending of template\n",
    "        \n",
    "        result = np.hstack((index_prefix, Template, index_suffix))  # horizontally stacking zero-padded values around template\n",
    "        all_templates.append(result)                                     # appending all values into Template\n",
    "        \n",
    "    return Template"
   ]
  },
  {
   "cell_type": "code",
   "execution_count": 87,
   "id": "9b8733f5",
   "metadata": {},
   "outputs": [],
   "source": [
    "a = 1.5\n",
    "f = np.array([1, 2, 3])\n",
    "sigma = 0.1\n",
    "t_0 = 5\n",
    "t_duration = 2\n",
    "data_time_stamps = Time1"
   ]
  },
  {
   "cell_type": "code",
   "execution_count": 88,
   "id": "489fa7b8",
   "metadata": {},
   "outputs": [
    {
     "name": "stdout",
     "output_type": "stream",
     "text": [
      "3\n",
      "10000\n"
     ]
    }
   ],
   "source": [
    "my_temp = template(a, f, sigma, t_0, t_duration, data_time_stamps)"
   ]
  },
  {
   "cell_type": "code",
   "execution_count": 75,
   "id": "8a38ebd8",
   "metadata": {},
   "outputs": [],
   "source": [
    "a = np.array([1, 2, 3, 4, 5])\n",
    "b = np.array([10, 20, 30, 40])\n",
    "i = np.array([10, 20, 30, 40])\n",
    "j = np.array([1, 2, 3, 4, 5])"
   ]
  },
  {
   "cell_type": "code",
   "execution_count": 76,
   "id": "7e49e50c",
   "metadata": {},
   "outputs": [
    {
     "name": "stdout",
     "output_type": "stream",
     "text": [
      "[[1 2 3 4 5]\n",
      " [1 2 3 4 5]\n",
      " [1 2 3 4 5]\n",
      " [1 2 3 4 5]]\n",
      "[[10 10 10 10 10]\n",
      " [20 20 20 20 20]\n",
      " [30 30 30 30 30]\n",
      " [40 40 40 40 40]]\n",
      "[[ 10  20  30  40  50]\n",
      " [ 20  40  60  80 100]\n",
      " [ 30  60  90 120 150]\n",
      " [ 40  80 120 160 200]]\n"
     ]
    }
   ],
   "source": [
    "A, B = np.meshgrid(a, b)\n",
    "I, J = np.meshgrid(i, j)\n",
    "print(A)\n",
    "print(B)\n",
    "print(A*B)"
   ]
  },
  {
   "cell_type": "markdown",
   "id": "b94bbee8",
   "metadata": {},
   "source": []
  },
  {
   "cell_type": "code",
   "execution_count": null,
   "id": "21b61721",
   "metadata": {},
   "outputs": [],
   "source": []
  }
 ],
 "metadata": {
  "kernelspec": {
   "display_name": "Research",
   "language": "python",
   "name": "research"
  },
  "language_info": {
   "codemirror_mode": {
    "name": "ipython",
    "version": 3
   },
   "file_extension": ".py",
   "mimetype": "text/x-python",
   "name": "python",
   "nbconvert_exporter": "python",
   "pygments_lexer": "ipython3",
   "version": "3.9.7"
  }
 },
 "nbformat": 4,
 "nbformat_minor": 5
}
