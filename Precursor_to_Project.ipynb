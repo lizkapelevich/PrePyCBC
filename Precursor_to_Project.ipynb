{
 "cells": [
  {
   "cell_type": "markdown",
   "id": "824a96ee",
   "metadata": {},
   "source": [
    "# Creating, Planting, and Finding Signals Within Noise\n",
    "Elizabeth Kapelevich"
   ]
  },
  {
   "cell_type": "code",
   "execution_count": 1,
   "id": "152fcb44",
   "metadata": {},
   "outputs": [],
   "source": [
    "import math\n",
    "import numpy as np\n",
    "from scipy import interpolate\n",
    "import matplotlib.pyplot as plt\n",
    "import signals_and_noise as san"
   ]
  },
  {
   "cell_type": "code",
   "execution_count": 2,
   "id": "63022aa7",
   "metadata": {},
   "outputs": [],
   "source": [
    "Time1, Position1 = np.loadtxt(\"mock_data_challenge_1.dat\").T\n",
    "Time2, Position2 = np.loadtxt(\"mock_data_challenge_2.dat\").T"
   ]
  },
  {
   "cell_type": "code",
   "execution_count": 3,
   "id": "9d5fed96",
   "metadata": {
    "scrolled": false
   },
   "outputs": [],
   "source": [
    "# %%timeit\n",
    "# san.fs_search(0.012, 2, 20, [Time1, Position1], 1.5, 8, 0.012, 2.0, 20, 10, 2.0, 10, 5.0)"
   ]
  },
  {
   "cell_type": "code",
   "execution_count": 4,
   "id": "1c72550b",
   "metadata": {},
   "outputs": [],
   "source": [
    "# %%timeit\n",
    "# san.fs_search(0.012, 2, 20, [Time2, Position2], 0.5, 4, 0.012, 2.0, 20, 0.5, 2.0, 10, 0.5)"
   ]
  },
  {
   "cell_type": "markdown",
   "id": "d4cd8dea",
   "metadata": {},
   "source": [
    "## Main Goal for Week of 6/27:\n",
    "Adjust the `template`, `integrator`, `cross_correlation`, and `fs_search` functions to take a frequency array as input and output the proper result.\n",
    "#### Tasks:\n",
    "* $\\checkmark$ Within the `template` function, create a meshgrid that will allow many different values of frequencies that can be used by many different values of the `S` equation.\n",
    "* Using a for-loop, evaluate ` S ` over values of ` frequency ` and ` time_stamps ` so that the output is an array of ` S ` values. $\\checkmark$\n",
    "* Once that is complete, go through the ` integrator ` function and the ` cross_correlation ` function and update the code so that the frequency parameter can be properly passed as an array and calculated.\n",
    "* Note: Adjusting/creating for-loops and meshgrids may help."
   ]
  },
  {
   "cell_type": "code",
   "execution_count": 76,
   "id": "88c1d765",
   "metadata": {},
   "outputs": [],
   "source": [
    "def integrator(data_time_series, a, f, sigma, t_0, t_duration, del_T):\n",
    "    \n",
    "    temp = san.template(a, f, sigma, t_0, t_duration, data_time_series[0]) # an array of zero-padded templates\n",
    "\n",
    "    result = []\n",
    "    for i in temp:\n",
    "        result.append(np.sum(data_time_series[1] * i) * del_T)       # integrating over all templates in increments of del_T\n",
    "    return result"
   ]
  },
  {
   "cell_type": "code",
   "execution_count": 77,
   "id": "9b8733f5",
   "metadata": {},
   "outputs": [],
   "source": [
    "a = 1.5\n",
    "f = np.array([1, 2, 3])\n",
    "sigma = 0.1\n",
    "t_0 = 0\n",
    "t_start = 2\n",
    "t_duration = 8\n",
    "t_max = 20\n",
    "data_time_series = [Time1, Position1]\n",
    "del_T_0 = 0.012\n",
    "del_T = 0.012"
   ]
  },
  {
   "cell_type": "code",
   "execution_count": 79,
   "id": "489fa7b8",
   "metadata": {
    "scrolled": true
   },
   "outputs": [
    {
     "name": "stdout",
     "output_type": "stream",
     "text": [
      "1501\n"
     ]
    }
   ],
   "source": [
    "my_integ = integrator(data_time_series, a, f, sigma, t_0, t_duration, del_T)\n",
    "print(len(my_integ))"
   ]
  },
  {
   "cell_type": "code",
   "execution_count": 8,
   "id": "8a38ebd8",
   "metadata": {},
   "outputs": [],
   "source": [
    "a = np.array([1, 2, 3, 4, 5])\n",
    "b = np.array([10, 20, 30, 40])"
   ]
  },
  {
   "cell_type": "code",
   "execution_count": 9,
   "id": "7e49e50c",
   "metadata": {},
   "outputs": [
    {
     "name": "stdout",
     "output_type": "stream",
     "text": [
      "[[1 2 3 4 5]\n",
      " [1 2 3 4 5]\n",
      " [1 2 3 4 5]\n",
      " [1 2 3 4 5]]\n",
      "[[10 10 10 10 10]\n",
      " [20 20 20 20 20]\n",
      " [30 30 30 30 30]\n",
      " [40 40 40 40 40]]\n",
      "[[ 10  20  30  40  50]\n",
      " [ 20  40  60  80 100]\n",
      " [ 30  60  90 120 150]\n",
      " [ 40  80 120 160 200]]\n"
     ]
    }
   ],
   "source": [
    "A, B = np.meshgrid(a, b)\n",
    "print(A)\n",
    "print(B)\n",
    "print(A*B)"
   ]
  },
  {
   "cell_type": "code",
   "execution_count": 45,
   "id": "37335650",
   "metadata": {},
   "outputs": [],
   "source": [
    "a = np.array([[1, 2, 3, 4, 5], [10, 20, 30, 40, 50]])\n",
    "b = np.array([1, 2, 3, 4, 5])"
   ]
  },
  {
   "cell_type": "code",
   "execution_count": 46,
   "id": "0de667af",
   "metadata": {},
   "outputs": [
    {
     "data": {
      "text/plain": [
       "array([[  1,   4,   9,  16,  25],\n",
       "       [ 10,  40,  90, 160, 250]])"
      ]
     },
     "execution_count": 46,
     "metadata": {},
     "output_type": "execute_result"
    }
   ],
   "source": [
    "a*b"
   ]
  },
  {
   "cell_type": "code",
   "execution_count": null,
   "id": "8bf8ac0f",
   "metadata": {},
   "outputs": [],
   "source": []
  }
 ],
 "metadata": {
  "kernelspec": {
   "display_name": "Research",
   "language": "python",
   "name": "research"
  },
  "language_info": {
   "codemirror_mode": {
    "name": "ipython",
    "version": 3
   },
   "file_extension": ".py",
   "mimetype": "text/x-python",
   "name": "python",
   "nbconvert_exporter": "python",
   "pygments_lexer": "ipython3",
   "version": "3.9.7"
  }
 },
 "nbformat": 4,
 "nbformat_minor": 5
}
