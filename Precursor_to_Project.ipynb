{
 "cells": [
  {
   "cell_type": "markdown",
   "id": "824a96ee",
   "metadata": {},
   "source": [
    "# Creating, Planting, and Finding Signals Within Noise\n",
    "Elizabeth Kapelevich"
   ]
  },
  {
   "cell_type": "code",
   "execution_count": 1,
   "id": "152fcb44",
   "metadata": {},
   "outputs": [],
   "source": [
    "import time\n",
    "import math\n",
    "import numpy as np\n",
    "from scipy import interpolate\n",
    "import matplotlib.pyplot as plt\n",
    "import signals_and_noise as san"
   ]
  },
  {
   "cell_type": "code",
   "execution_count": 2,
   "id": "63022aa7",
   "metadata": {},
   "outputs": [],
   "source": [
    "Time1, Position1 = np.loadtxt(\"mock_data_challenge_1.dat\").T\n",
    "Time2, Position2 = np.loadtxt(\"mock_data_challenge_2.dat\").T"
   ]
  },
  {
   "cell_type": "markdown",
   "id": "158fee6b",
   "metadata": {},
   "source": [
    "## Main Goal for Week of 7/04:\n",
    "* Begin PyCBC and learn implementation\n",
    "### Mini-goal:\n",
    "* Adjust the `frequency_time_search` function to allow $\\sigma$ (standard deviation) as an array and output the corresponding value that relates to the cross-correlation and frequency."
   ]
  },
  {
   "cell_type": "code",
   "execution_count": 117,
   "id": "6b92e63a",
   "metadata": {},
   "outputs": [],
   "source": [
    "def frequency_time_sigma_search(del_T_0, t_start, t_max, data_time_series, a, f, sigma, t_duration, del_T):\n",
    "    \n",
    "    time_values = []\n",
    "    C_values = []\n",
    "    \n",
    "    for i in sigma:\n",
    "        times, C = san.cross_correlation(del_T_0, t_start, t_max, data_time_series, a, f, i, t_duration, del_T)\n",
    "        time_values.append(times)\n",
    "        C_values.append(C)\n",
    "\n",
    "    C = np.array(C)                                        # creating an array from a list\n",
    "    C_values = np.array(C_values)\n",
    "    \n",
    "    # shape of C_values is: sigma, C, frequency\n",
    "    \n",
    "    C_max_value = np.max(C)                                # finding the maximum value\n",
    "    find_index = np.where(C_max_value == C)                # finding index of maximum value\n",
    "    # need to figure out a way to \n",
    "    index_row = int(find_index[0])                         # finding row of the index\n",
    "    index_column = int(find_index[1])                      # finding column of the index\n",
    "    \n",
    "    time_correct = times[index_row]                        # value of time from row index\n",
    "    frequency_correct = f[index_column]                    # value of frequency from column index\n",
    "#    sigma_correct = sigma_values[f]\n",
    "    \n",
    "    return time_correct, frequency_correct #, sigma_correct"
   ]
  },
  {
   "cell_type": "code",
   "execution_count": 118,
   "id": "9b8733f5",
   "metadata": {},
   "outputs": [],
   "source": [
    "a = 1.5\n",
    "f = np.linspace(0, 2, 1)\n",
    "sigma = np.linspace(0, 1, 1)\n",
    "t_0 = 2.01\n",
    "t_start = 2\n",
    "t_duration = 8\n",
    "t_max = 20\n",
    "data_time_series = [Time1, Position1]\n",
    "data_time_stamps = Time1\n",
    "del_T_0 = 0.012\n",
    "del_T = 0.012"
   ]
  },
  {
   "cell_type": "code",
   "execution_count": 119,
   "id": "c4500093",
   "metadata": {},
   "outputs": [
    {
     "ename": "TypeError",
     "evalue": "tuple indices must be integers or slices, not tuple",
     "output_type": "error",
     "traceback": [
      "\u001b[0;31m---------------------------------------------------------------------------\u001b[0m",
      "\u001b[0;31mTypeError\u001b[0m                                 Traceback (most recent call last)",
      "\u001b[0;32m/var/folders/05/_m4lkjtn3p16v6rjlk_zcqvh0000gr/T/ipykernel_20893/337588356.py\u001b[0m in \u001b[0;36m<module>\u001b[0;34m\u001b[0m\n\u001b[0;32m----> 1\u001b[0;31m \u001b[0msearch\u001b[0m \u001b[0;34m=\u001b[0m \u001b[0mfrequency_time_sigma_search\u001b[0m\u001b[0;34m(\u001b[0m\u001b[0mdel_T_0\u001b[0m\u001b[0;34m,\u001b[0m \u001b[0mt_start\u001b[0m\u001b[0;34m,\u001b[0m \u001b[0mt_max\u001b[0m\u001b[0;34m,\u001b[0m \u001b[0mdata_time_series\u001b[0m\u001b[0;34m,\u001b[0m \u001b[0ma\u001b[0m\u001b[0;34m,\u001b[0m \u001b[0mf\u001b[0m\u001b[0;34m,\u001b[0m \u001b[0msigma\u001b[0m\u001b[0;34m,\u001b[0m \u001b[0mt_duration\u001b[0m\u001b[0;34m,\u001b[0m \u001b[0mdel_T\u001b[0m\u001b[0;34m)\u001b[0m\u001b[0;34m\u001b[0m\u001b[0;34m\u001b[0m\u001b[0m\n\u001b[0m",
      "\u001b[0;32m/var/folders/05/_m4lkjtn3p16v6rjlk_zcqvh0000gr/T/ipykernel_20893/3726726849.py\u001b[0m in \u001b[0;36mfrequency_time_sigma_search\u001b[0;34m(del_T_0, t_start, t_max, data_time_series, a, f, sigma, t_duration, del_T)\u001b[0m\n\u001b[1;32m     17\u001b[0m     \u001b[0mfind_index\u001b[0m \u001b[0;34m=\u001b[0m \u001b[0mnp\u001b[0m\u001b[0;34m.\u001b[0m\u001b[0mwhere\u001b[0m\u001b[0;34m(\u001b[0m\u001b[0mC_max_value\u001b[0m \u001b[0;34m==\u001b[0m \u001b[0mC\u001b[0m\u001b[0;34m)\u001b[0m                                \u001b[0;31m# finding index of maximum value\u001b[0m\u001b[0;34m\u001b[0m\u001b[0;34m\u001b[0m\u001b[0m\n\u001b[1;32m     18\u001b[0m \u001b[0;34m\u001b[0m\u001b[0m\n\u001b[0;32m---> 19\u001b[0;31m     \u001b[0mindex_row\u001b[0m \u001b[0;34m=\u001b[0m \u001b[0mfind_index\u001b[0m\u001b[0;34m[\u001b[0m\u001b[0;34m:\u001b[0m\u001b[0;34m,\u001b[0m\u001b[0;36m0\u001b[0m\u001b[0;34m]\u001b[0m                                               \u001b[0;31m# finding row of the index\u001b[0m\u001b[0;34m\u001b[0m\u001b[0;34m\u001b[0m\u001b[0m\n\u001b[0m\u001b[1;32m     20\u001b[0m     \u001b[0mindex_column\u001b[0m \u001b[0;34m=\u001b[0m \u001b[0mint\u001b[0m\u001b[0;34m(\u001b[0m\u001b[0mfind_index\u001b[0m\u001b[0;34m[\u001b[0m\u001b[0;34m:\u001b[0m\u001b[0;34m,\u001b[0m\u001b[0;34m:\u001b[0m\u001b[0;34m,\u001b[0m\u001b[0;36m1\u001b[0m\u001b[0;34m]\u001b[0m\u001b[0;34m)\u001b[0m                                          \u001b[0;31m# finding column of the index\u001b[0m\u001b[0;34m\u001b[0m\u001b[0;34m\u001b[0m\u001b[0m\n\u001b[1;32m     21\u001b[0m \u001b[0;34m\u001b[0m\u001b[0m\n",
      "\u001b[0;31mTypeError\u001b[0m: tuple indices must be integers or slices, not tuple"
     ]
    }
   ],
   "source": [
    "search = frequency_time_sigma_search(del_T_0, t_start, t_max, data_time_series, a, f, sigma, t_duration, del_T)"
   ]
  },
  {
   "cell_type": "code",
   "execution_count": 33,
   "id": "5d6bbcd6",
   "metadata": {},
   "outputs": [
    {
     "data": {
      "text/plain": [
       "(4.0280000000000005, 6.842105263157895)"
      ]
     },
     "execution_count": 33,
     "metadata": {},
     "output_type": "execute_result"
    }
   ],
   "source": [
    "search"
   ]
  },
  {
   "cell_type": "code",
   "execution_count": 76,
   "id": "21235522",
   "metadata": {},
   "outputs": [],
   "source": [
    "array = np.array([[[1, 2, 3], \n",
    "                   [4, 5, 6], \n",
    "                   [7, 8, 9]], \n",
    "                  \n",
    "                  [[10, 11, 12], \n",
    "                   [13, 14, 15], \n",
    "                   [16, 17, 18]]])"
   ]
  },
  {
   "cell_type": "code",
   "execution_count": 123,
   "id": "6ef2bc27",
   "metadata": {},
   "outputs": [
    {
     "name": "stdout",
     "output_type": "stream",
     "text": [
      "first entire array: \n",
      "\n",
      "[[1 2 3]\n",
      " [4 5 6]\n",
      " [7 8 9]]\n",
      "\n",
      "first row in each array: \n",
      "\n",
      "[[ 1  2  3]\n",
      " [10 11 12]]\n",
      "\n",
      "first column in each array: \n",
      "\n",
      "[[ 1  4  7]\n",
      " [10 13 16]]\n",
      "1\n",
      "2\n"
     ]
    }
   ],
   "source": [
    "print(\"first entire array: \")\n",
    "print()\n",
    "print(array[0])\n",
    "print()\n",
    "print(\"first row in each array: \")\n",
    "print()\n",
    "print(array [:,0])\n",
    "print()\n",
    "print(\"first column in each array: \")\n",
    "print()\n",
    "print(array[:,:,0])\n",
    "\n",
    "x = np.max(array)                                # finding the maximum value\n",
    "find_index = np.where(x == array)\n",
    "index_row = int(find_index[0])                         # finding row of the index\n",
    "index_column = int(find_index[1])\n",
    "print(index_row)\n",
    "print(index_column)"
   ]
  },
  {
   "cell_type": "markdown",
   "id": "a8ca0e02",
   "metadata": {},
   "source": [
    "https://stackoverflow.com/questions/19770361/find-index-positions-where-3d-array-meets-multiple-conditions"
   ]
  },
  {
   "cell_type": "markdown",
   "id": "bc70e674",
   "metadata": {},
   "source": [
    "Use above link to figure out how to find position of max value in 3D array using `np.where()`"
   ]
  }
 ],
 "metadata": {
  "kernelspec": {
   "display_name": "Research",
   "language": "python",
   "name": "research"
  },
  "language_info": {
   "codemirror_mode": {
    "name": "ipython",
    "version": 3
   },
   "file_extension": ".py",
   "mimetype": "text/x-python",
   "name": "python",
   "nbconvert_exporter": "python",
   "pygments_lexer": "ipython3",
   "version": "3.9.7"
  }
 },
 "nbformat": 4,
 "nbformat_minor": 5
}
