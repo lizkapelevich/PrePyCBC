{
 "cells": [
  {
   "cell_type": "markdown",
   "metadata": {},
   "source": [
    "# Creating, Planting, and Finding Signals Within Noise\n",
    "Elizabeth Kapelevich"
   ]
  },
  {
   "cell_type": "code",
   "execution_count": 1,
   "metadata": {},
   "outputs": [],
   "source": [
    "import time\n",
    "import math\n",
    "import numpy as np\n",
    "from scipy import interpolate\n",
    "import matplotlib.pyplot as plt\n",
    "import signals_and_noise as san"
   ]
  },
  {
   "cell_type": "code",
   "execution_count": 2,
   "metadata": {},
   "outputs": [],
   "source": [
    "Time1, Position1 = np.loadtxt(\"mock_data_challenge_1.dat\").T\n",
    "Time2, Position2 = np.loadtxt(\"mock_data_challenge_2.dat\").T"
   ]
  },
  {
   "cell_type": "code",
   "execution_count": 5,
   "metadata": {},
   "outputs": [],
   "source": [
    "a = 1.5\n",
    "f = np.linspace(0.01, 10, 20)\n",
    "sigma = np.linspace(0.01, 1, 10)\n",
    "t_0 = 2.01\n",
    "t_start = 2\n",
    "t_duration = 8\n",
    "t_max = 20\n",
    "data_time_series = [Time1, Position1]\n",
    "data_time_stamps = Time1\n",
    "del_T_0 = 0.012\n",
    "del_T = 0.012"
   ]
  },
  {
   "cell_type": "code",
   "execution_count": 6,
   "metadata": {},
   "outputs": [
    {
     "name": "stdout",
     "output_type": "stream",
     "text": [
      "(1.0, 3.9800000000000018, 6.845263157894737)\n"
     ]
    }
   ],
   "source": [
    "search1 = san.frequency_time_sigma_search(del_T_0, t_start, t_max, data_time_series, a, f, sigma, t_duration, del_T)\n",
    "print(search1)"
   ]
  },
  {
   "cell_type": "code",
   "execution_count": 7,
   "metadata": {},
   "outputs": [],
   "source": [
    "a = 1.5\n",
    "f = np.linspace(0, 10, 20)\n",
    "sigma = np.linspace(0, 1, 10)\n",
    "t_0 = 2.01\n",
    "t_start = 2\n",
    "t_duration = 8\n",
    "t_max = 20\n",
    "data_time_series = [Time2, Position2]\n",
    "data_time_stamps = Time2\n",
    "del_T_0 = 0.012\n",
    "del_T = 0.012"
   ]
  },
  {
   "cell_type": "code",
   "execution_count": 8,
   "metadata": {},
   "outputs": [
    {
     "name": "stdout",
     "output_type": "stream",
     "text": [
      "(1.0, 5.815999999999936, 9.473684210526315)\n"
     ]
    }
   ],
   "source": [
    "search2 = san.frequency_time_sigma_search(del_T_0, t_start, t_max, data_time_series, a, f, sigma, t_duration, del_T)\n",
    "print(search2)"
   ]
  }
 ],
 "metadata": {
  "kernelspec": {
   "display_name": "Python 3",
   "language": "python",
   "name": "python3"
  },
  "language_info": {
   "codemirror_mode": {
    "name": "ipython",
    "version": 3
   },
   "file_extension": ".py",
   "mimetype": "text/x-python",
   "name": "python",
   "nbconvert_exporter": "python",
   "pygments_lexer": "ipython3",
   "version": "3.8.3"
  }
 },
 "nbformat": 4,
 "nbformat_minor": 5
}
