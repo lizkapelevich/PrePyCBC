{
 "cells": [
  {
   "cell_type": "markdown",
   "id": "ab94e1ff",
   "metadata": {},
   "source": [
    "# Signal Detection Using Templates and Statistics\n",
    "Elizabeth Kapelevich"
   ]
  },
  {
   "cell_type": "code",
   "execution_count": 1,
   "id": "df29dd13",
   "metadata": {},
   "outputs": [],
   "source": [
    "import numpy as np\n",
    "import math\n",
    "from scipy import interpolate"
   ]
  },
  {
   "cell_type": "markdown",
   "id": "e00c44ea",
   "metadata": {},
   "source": [
    "## Part I: PPT Slides\n",
    "* Gravity\n",
    "* General Relativity\n",
    "* Gravitational Waves"
   ]
  },
  {
   "cell_type": "markdown",
   "id": "594dd316",
   "metadata": {},
   "source": [
    "## Part II: Demo\n",
    "* Write a function returning `t, y` of a sine-gaussian wave\n",
    "* Plot the default sine-gaussian wave\n",
    "* Plot different sine-gaussian waves with different values of `a, f,` and $\\sigma$ so audience understands how parameters affect wave\n",
    "* Generate random noise\n",
    "* Plot the random noise\n",
    "* Plot the wave on top of the random noise and make the wave an obvious color so audience can see it\n",
    "* Remove the obvious color so the wave is more difficult to find for the audience\n",
    "* Show how increasing the amplitude of the noise can completely bury the wave so it's not visible\n",
    "* Create the `integrator` and `cross_correlation` function\n",
    "* Make an animation of the `cross_correlation` function sliding with the template across the noise to find the wave\n",
    "* Plot the `cross_correlation` result and show that the peak is where the wave is found\n",
    "* Show how changing parameters will affect the peak of `cross_correlation`"
   ]
  },
  {
   "cell_type": "code",
   "execution_count": 2,
   "id": "27824964",
   "metadata": {},
   "outputs": [],
   "source": [
    "def sine_gaussian(amplitude, frequency, sigma, time_interval, t_start, t_end):\n",
    "    \n",
    "    \"\"\"\n",
    "    This function takes as input the amplitude,\n",
    "    frequency, standard deviation, interval of\n",
    "    time, and the bounds of time.\n",
    "    \n",
    "    INPUT:\n",
    "    ------\n",
    "    amplitude : amplitude\n",
    "    frequency : frequency\n",
    "    sigma : standard deviation\n",
    "    time_interval : interval of time between each value\n",
    "    t_start : initial time\n",
    "    t_end : final time\n",
    "    \n",
    "    RETURNS:\n",
    "    --------\n",
    "    The time series for a wave of a sine-gaussian \n",
    "    function.\n",
    "    \"\"\"\n",
    "    \n",
    "    t_duration = t_end - t_start                                   # calculating duration of time\n",
    "    time_stamps = t_duration / time_interval                       # finding number of time-stamps\n",
    "    delta_t = t_duration / math.ceil(time_stamps)                  # creating new time intervals to allow array to reach end point\n",
    "    \n",
    "    t = np.arange(t_start, t_end + delta_t, delta_t)               # setting up array from initial to final time in increments of delta t\n",
    "    t_mean = (t_start + t_end) / 2                                 # finding mean of time for sine-gaussian equation\n",
    "    \n",
    "    S = A*np.sin(2*np.pi*f*t)*np.exp((-(t - t_mean)**2)/(2*sigma)) # sine-gaussian equation\n",
    "    \n",
    "    return t, S"
   ]
  },
  {
   "cell_type": "code",
   "execution_count": null,
   "id": "feccca99",
   "metadata": {},
   "outputs": [],
   "source": [
    "def random_noise(t_start, t_end, time_interval):\n",
    "    \n",
    "    \"\"\"\n",
    "    This function takes as input the bounds of\n",
    "    time and the interval of time.\n",
    "    \n",
    "    INPUT:\n",
    "    ------\n",
    "    t_start : intial time\n",
    "    t_end : final time\n",
    "    time_interval : interval of time between each value\n",
    "    \n",
    "    RETURNS:\n",
    "    -------\n",
    "    The time series for randomly generated noise.\n",
    "    \n",
    "    \"\"\"\n",
    "    \n",
    "    "
   ]
  }
 ],
 "metadata": {
  "kernelspec": {
   "display_name": "Research",
   "language": "python",
   "name": "research"
  },
  "language_info": {
   "codemirror_mode": {
    "name": "ipython",
    "version": 3
   },
   "file_extension": ".py",
   "mimetype": "text/x-python",
   "name": "python",
   "nbconvert_exporter": "python",
   "pygments_lexer": "ipython3",
   "version": "3.9.7"
  }
 },
 "nbformat": 4,
 "nbformat_minor": 5
}
